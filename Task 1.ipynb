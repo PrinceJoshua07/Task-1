{
  "metadata": {
    "language_info": {
      "codemirror_mode": {
        "name": "python",
        "version": 3
      },
      "file_extension": ".py",
      "mimetype": "text/x-python",
      "name": "python",
      "nbconvert_exporter": "python",
      "pygments_lexer": "ipython3",
      "version": "3.8"
    },
    "kernelspec": {
      "name": "python",
      "display_name": "Pyolite",
      "language": "python"
    }
  },
  "nbformat_minor": 4,
  "nbformat": 4,
  "cells": [
    {
      "cell_type": "code",
      "source": "a = \"ineuron\"",
      "metadata": {
        "trusted": true
      },
      "execution_count": 4,
      "outputs": []
    },
    {
      "cell_type": "code",
      "source": "type (a)",
      "metadata": {
        "trusted": true
      },
      "execution_count": 5,
      "outputs": [
        {
          "execution_count": 5,
          "output_type": "execute_result",
          "data": {
            "text/plain": "str"
          },
          "metadata": {}
        }
      ]
    },
    {
      "cell_type": "code",
      "source": "a [1:300:3]",
      "metadata": {
        "trusted": true
      },
      "execution_count": 6,
      "outputs": [
        {
          "execution_count": 6,
          "output_type": "execute_result",
          "data": {
            "text/plain": "'nr'"
          },
          "metadata": {}
        }
      ]
    },
    {
      "cell_type": "code",
      "source": "a [::-1]",
      "metadata": {
        "trusted": true
      },
      "execution_count": 24,
      "outputs": [
        {
          "execution_count": 24,
          "output_type": "execute_result",
          "data": {
            "text/plain": "'norueni'"
          },
          "metadata": {}
        }
      ]
    },
    {
      "cell_type": "code",
      "source": "ai = 'Python is an interpreted, object-oriented, high-level programming language with dynamic semantics'",
      "metadata": {
        "trusted": true
      },
      "execution_count": 39,
      "outputs": []
    },
    {
      "cell_type": "code",
      "source": "ai.upper()",
      "metadata": {
        "trusted": true
      },
      "execution_count": 44,
      "outputs": [
        {
          "execution_count": 44,
          "output_type": "execute_result",
          "data": {
            "text/plain": "'PYTHON IS AN INTERPRETED, OBJECT-ORIENTED, HIGH-LEVEL PROGRAMMING LANGUAGE WITH DYNAMIC SEMANTICS'"
          },
          "metadata": {}
        }
      ]
    },
    {
      "cell_type": "code",
      "source": "ai = ai.upper ()",
      "metadata": {
        "trusted": true
      },
      "execution_count": 45,
      "outputs": []
    },
    {
      "cell_type": "code",
      "source": "ai.split (' ')",
      "metadata": {
        "trusted": true
      },
      "execution_count": 46,
      "outputs": [
        {
          "execution_count": 46,
          "output_type": "execute_result",
          "data": {
            "text/plain": "['PYTHON',\n 'IS',\n 'AN',\n 'INTERPRETED,',\n 'OBJECT-ORIENTED,',\n 'HIGH-LEVEL',\n 'PROGRAMMING',\n 'LANGUAGE',\n 'WITH',\n 'DYNAMIC',\n 'SEMANTICS']"
          },
          "metadata": {}
        }
      ]
    },
    {
      "cell_type": "code",
      "source": "ai.lower ()",
      "metadata": {
        "trusted": true
      },
      "execution_count": 47,
      "outputs": [
        {
          "execution_count": 47,
          "output_type": "execute_result",
          "data": {
            "text/plain": "'python is an interpreted, object-oriented, high-level programming language with dynamic semantics'"
          },
          "metadata": {}
        }
      ]
    },
    {
      "cell_type": "code",
      "source": "ai.capitalize ()",
      "metadata": {
        "trusted": true
      },
      "execution_count": 48,
      "outputs": [
        {
          "execution_count": 48,
          "output_type": "execute_result",
          "data": {
            "text/plain": "'Python is an interpreted, object-oriented, high-level programming language with dynamic semantics'"
          },
          "metadata": {}
        }
      ]
    },
    {
      "cell_type": "code",
      "source": "Q6 = \"isalnum - output will be true or false, if string is alpha numeric or aleast one different character and isalpha - output will be true or false, if string contains alphabetic characters\"",
      "metadata": {
        "trusted": true
      },
      "execution_count": 54,
      "outputs": []
    },
    {
      "cell_type": "code",
      "source": "ai.isalnum ()",
      "metadata": {
        "trusted": true
      },
      "execution_count": 56,
      "outputs": [
        {
          "execution_count": 56,
          "output_type": "execute_result",
          "data": {
            "text/plain": "False"
          },
          "metadata": {}
        }
      ]
    },
    {
      "cell_type": "code",
      "source": "ai.isalpha ()",
      "metadata": {
        "trusted": true
      },
      "execution_count": 58,
      "outputs": [
        {
          "execution_count": 58,
          "output_type": "execute_result",
          "data": {
            "text/plain": "False"
          },
          "metadata": {}
        }
      ]
    },
    {
      "cell_type": "code",
      "source": "Q7 = \"Expandtab - method to expand a string using space between each and every characters\"",
      "metadata": {
        "trusted": true
      },
      "execution_count": 60,
      "outputs": []
    },
    {
      "cell_type": "code",
      "source": "ai.expandtabs ()",
      "metadata": {
        "trusted": true
      },
      "execution_count": 62,
      "outputs": [
        {
          "execution_count": 62,
          "output_type": "execute_result",
          "data": {
            "text/plain": "'PYTHON IS AN INTERPRETED, OBJECT-ORIENTED, HIGH-LEVEL PROGRAMMING LANGUAGE WITH DYNAMIC SEMANTICS'"
          },
          "metadata": {}
        }
      ]
    },
    {
      "cell_type": "code",
      "source": "Q8 = 'Strip - method to remove extra spaces in a entire string, lstrip - remove extra spaces in left side of a string and rstrip - remove extra spaces in right side of a string'",
      "metadata": {
        "trusted": true
      },
      "execution_count": 84,
      "outputs": []
    },
    {
      "cell_type": "code",
      "source": "ae = '   Earth is the third planet from the Sun and the only astronomical object known to harbor life.   '",
      "metadata": {
        "trusted": true
      },
      "execution_count": 86,
      "outputs": []
    },
    {
      "cell_type": "code",
      "source": "ae.strip ()",
      "metadata": {
        "trusted": true
      },
      "execution_count": 87,
      "outputs": [
        {
          "execution_count": 87,
          "output_type": "execute_result",
          "data": {
            "text/plain": "'Earth is the third planet from the Sun and the only astronomical object known to harbor life.'"
          },
          "metadata": {}
        }
      ]
    },
    {
      "cell_type": "code",
      "source": "ae.lstrip ()",
      "metadata": {
        "trusted": true
      },
      "execution_count": 88,
      "outputs": [
        {
          "execution_count": 88,
          "output_type": "execute_result",
          "data": {
            "text/plain": "'Earth is the third planet from the Sun and the only astronomical object known to harbor life.   '"
          },
          "metadata": {}
        }
      ]
    },
    {
      "cell_type": "code",
      "source": "ae.rstrip ()",
      "metadata": {
        "trusted": true
      },
      "execution_count": 89,
      "outputs": [
        {
          "execution_count": 89,
          "output_type": "execute_result",
          "data": {
            "text/plain": "'   Earth is the third planet from the Sun and the only astronomical object known to harbor life.'"
          },
          "metadata": {}
        }
      ]
    },
    {
      "cell_type": "code",
      "source": "ae = ae.strip ()",
      "metadata": {
        "trusted": true
      },
      "execution_count": 98,
      "outputs": []
    },
    {
      "cell_type": "code",
      "source": "Q9 = 'Replaceing the character (third) to this character (3rd)'",
      "metadata": {
        "trusted": true
      },
      "execution_count": 99,
      "outputs": []
    },
    {
      "cell_type": "code",
      "source": "ae.replace ('third', '3rd')",
      "metadata": {
        "trusted": true
      },
      "execution_count": 100,
      "outputs": [
        {
          "execution_count": 100,
          "output_type": "execute_result",
          "data": {
            "text/plain": "'Earth is the 3rd planet from the Sun and the only astronomical object known to harbor life.'"
          },
          "metadata": {}
        }
      ]
    },
    {
      "cell_type": "code",
      "source": "Q10 = 'Center function - a method to change the string with new alignments using some specific characters'",
      "metadata": {
        "trusted": true
      },
      "execution_count": 111,
      "outputs": []
    },
    {
      "cell_type": "code",
      "source": "a.center (15, '#')",
      "metadata": {
        "trusted": true
      },
      "execution_count": 112,
      "outputs": [
        {
          "execution_count": 112,
          "output_type": "execute_result",
          "data": {
            "text/plain": "'####ineuron####'"
          },
          "metadata": {}
        }
      ]
    },
    {
      "cell_type": "code",
      "source": "Q11 = 'Complier - Translating a code into another maching code which is a form of compiling into another programme. Interpretor - Translating a code into another code in a easy form to understand which don't need other programme to compile it'",
      "metadata": {
        "trusted": true
      },
      "execution_count": 114,
      "outputs": []
    },
    {
      "cell_type": "code",
      "source": "Q12 = \"Python is a interpreted of compiled language which is easy to understand comparing to other programming languages.Python is case-sensitive langauge.Python don't need other programmes to execute the code which directly executes and finalize the output whether it is correct or error.\"",
      "metadata": {
        "trusted": true
      },
      "execution_count": 119,
      "outputs": []
    },
    {
      "cell_type": "code",
      "source": "Q13 = 'Python is a easy language for coding which used to develop a website, software, gaming, ai and also for date science. Python has a clean syntax and it is popular with software developers and data scientist.",
      "metadata": {},
      "execution_count": null,
      "outputs": []
    }
  ]
}